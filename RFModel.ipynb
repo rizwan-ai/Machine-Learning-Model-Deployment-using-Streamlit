{
 "cells": [
  {
   "cell_type": "markdown",
   "id": "278ef814-0ec3-4b4f-8f63-b3893a62efd6",
   "metadata": {},
   "source": [
    "## Random Forest "
   ]
  },
  {
   "cell_type": "code",
   "execution_count": 1,
   "id": "575637a6-5467-406f-8e16-42c6bd16c60d",
   "metadata": {},
   "outputs": [
    {
     "name": "stdout",
     "output_type": "stream",
     "text": [
      "Testing score: 0.98\n",
      "Training score: 1.00\n",
      "Classification Report:               precision    recall  f1-score   support\n",
      "\n",
      "           0       1.00      1.00      1.00        19\n",
      "           1       0.94      1.00      0.97        15\n",
      "           2       1.00      0.94      0.97        16\n",
      "\n",
      "    accuracy                           0.98        50\n",
      "   macro avg       0.98      0.98      0.98        50\n",
      "weighted avg       0.98      0.98      0.98        50\n",
      "\n"
     ]
    },
    {
     "data": {
      "text/plain": [
       "['label_encoder.sav']"
      ]
     },
     "execution_count": 1,
     "metadata": {},
     "output_type": "execute_result"
    }
   ],
   "source": [
    "# Import necessary modules\n",
    "import pandas as pd\n",
    "from sklearn.model_selection import train_test_split, GridSearchCV\n",
    "from sklearn.preprocessing import StandardScaler, LabelEncoder\n",
    "from sklearn.ensemble import RandomForestClassifier\n",
    "from sklearn.metrics import classification_report\n",
    "import joblib\n",
    "\n",
    "# Load the dataset\n",
    "iris_df = pd.read_csv('Iris.csv')\n",
    "\n",
    "# Split into features and target variable\n",
    "X = iris_df.iloc[:, 1:-1].values\n",
    "y = iris_df.iloc[:, -1].values\n",
    "\n",
    "# Split into training and testing data\n",
    "X_train, X_test, y_train, y_test = train_test_split(X, y, test_size=0.33, random_state=42)\n",
    "\n",
    "# Standardize the features using a StandardScaler\n",
    "scaler = StandardScaler()\n",
    "scaler.fit(X_train)\n",
    "X_train_scaled = scaler.transform(X_train)\n",
    "X_test_scaled = scaler.transform(X_test)\n",
    "\n",
    "# Encode the target variable using a LabelEncoder\n",
    "encoder = LabelEncoder()\n",
    "encoder.fit(y_train)\n",
    "y_train_encoded = encoder.transform(y_train)\n",
    "y_test_encoded = encoder.transform(y_test)\n",
    "\n",
    "# Define hyperparameter grid for tuning the model\n",
    "param_grid = {\n",
    "    'n_estimators': [25, 50, 100, 200],\n",
    "    'max_depth': [None, 1, 2, 3],\n",
    "    'min_samples_split': [2, 3, 4],\n",
    "    'min_samples_leaf': [1, 2, 3],\n",
    "    'criterion': ['gini', 'entropy']\n",
    "}\n",
    "\n",
    "# Train a Random Forest Classifier using GridSearchCV to find the optimal hyperparameters\n",
    "rf_model = RandomForestClassifier(random_state=42)\n",
    "rf_model_tuned = GridSearchCV(rf_model, param_grid, cv=5)\n",
    "rf_model_tuned.fit(X_train_scaled, y_train_encoded)\n",
    "\n",
    "# Evaluate the model's performance on the testing and training data\n",
    "test_score = rf_model_tuned.score(X_test_scaled, y_test_encoded)\n",
    "train_score = rf_model_tuned.score(X_train_scaled, y_train_encoded)\n",
    "print(f'Testing score: {test_score:.2f}')\n",
    "print(f'Training score: {train_score:.2f}')\n",
    "\n",
    "# Make predictions on the test data using the tuned random forest classifier\n",
    "y_pred = rf_model_tuned.predict(X_test_scaled)\n",
    "\n",
    "# Generate a classification report to evaluate the performance of the model\n",
    "print(f'Classification Report: {classification_report(y_test_encoded, y_pred)}')\n",
    "\n",
    "# Save the trained model, StandardScaler, and LabelEncoder for later use\n",
    "joblib.dump(rf_model_tuned, 'rf_model.sav')\n",
    "joblib.dump(scaler, 'features_scaler.sav')\n",
    "joblib.dump(encoder, 'label_encoder.sav')"
   ]
  },
  {
   "cell_type": "code",
   "execution_count": null,
   "id": "94078e0f-2580-4a21-81ef-fab1116c4ee2",
   "metadata": {},
   "outputs": [],
   "source": []
  },
  {
   "cell_type": "code",
   "execution_count": 5,
   "id": "ab008506-a66f-4248-8a63-cd921eb52bc6",
   "metadata": {},
   "outputs": [],
   "source": [
    "import joblib\n",
    "import pandas as pd\n",
    "import matplotlib.pyplot as plt\n",
    "import seaborn as sns"
   ]
  },
  {
   "cell_type": "code",
   "execution_count": 6,
   "id": "fd9acb07-4b30-4527-8dd6-6e99a1f1e24e",
   "metadata": {},
   "outputs": [],
   "source": [
    "# Load the saved model, StandardScaler, and LabelEncoder\n",
    "rf_model_tuned = joblib.load('rf_model.sav')"
   ]
  },
  {
   "cell_type": "code",
   "execution_count": 8,
   "id": "9fc6de35-1ea9-4b3e-bf3d-c50dcc9194a0",
   "metadata": {},
   "outputs": [],
   "source": [
    "# Load the dataset\n",
    "iris_df = pd.read_csv('Iris.csv')"
   ]
  },
  {
   "cell_type": "code",
   "execution_count": 13,
   "id": "b8c3c773-5bee-4c16-835d-a696e5080068",
   "metadata": {},
   "outputs": [],
   "source": [
    "# Plot feature importance using Seaborn\n",
    "feature_importances = pd.DataFrame(\n",
    "    rf_model_tuned.best_estimator_.feature_importances_,\n",
    "    index = iris_df.columns[1:-1],\n",
    "    columns=['importance']).sort_values('importance', ascending=False)"
   ]
  },
  {
   "cell_type": "code",
   "execution_count": 17,
   "id": "fd56c34a-b07b-45a2-a943-3868c7ce76ca",
   "metadata": {},
   "outputs": [
    {
     "data": {
      "text/html": [
       "<div>\n",
       "<style scoped>\n",
       "    .dataframe tbody tr th:only-of-type {\n",
       "        vertical-align: middle;\n",
       "    }\n",
       "\n",
       "    .dataframe tbody tr th {\n",
       "        vertical-align: top;\n",
       "    }\n",
       "\n",
       "    .dataframe thead th {\n",
       "        text-align: right;\n",
       "    }\n",
       "</style>\n",
       "<table border=\"1\" class=\"dataframe\">\n",
       "  <thead>\n",
       "    <tr style=\"text-align: right;\">\n",
       "      <th></th>\n",
       "      <th>importance</th>\n",
       "    </tr>\n",
       "  </thead>\n",
       "  <tbody>\n",
       "    <tr>\n",
       "      <th>PetalLengthCm</th>\n",
       "      <td>0.435875</td>\n",
       "    </tr>\n",
       "    <tr>\n",
       "      <th>PetalWidthCm</th>\n",
       "      <td>0.423670</td>\n",
       "    </tr>\n",
       "    <tr>\n",
       "      <th>SepalLengthCm</th>\n",
       "      <td>0.094298</td>\n",
       "    </tr>\n",
       "    <tr>\n",
       "      <th>SepalWidthCm</th>\n",
       "      <td>0.046158</td>\n",
       "    </tr>\n",
       "  </tbody>\n",
       "</table>\n",
       "</div>"
      ],
      "text/plain": [
       "               importance\n",
       "PetalLengthCm    0.435875\n",
       "PetalWidthCm     0.423670\n",
       "SepalLengthCm    0.094298\n",
       "SepalWidthCm     0.046158"
      ]
     },
     "execution_count": 17,
     "metadata": {},
     "output_type": "execute_result"
    }
   ],
   "source": [
    "feature_importances"
   ]
  },
  {
   "cell_type": "code",
   "execution_count": 18,
   "id": "1bea29f0-a06a-486f-8354-80e627fbc426",
   "metadata": {},
   "outputs": [
    {
     "data": {
      "image/png": "[encoded data removed]",
      "text/plain": [
       "<Figure size 640x480 with 1 Axes>"
      ]
     },
     "metadata": {},
     "output_type": "display_data"
    }
   ],
   "source": [
    "sns.barplot(x=feature_importances.index, y=feature_importances.importance)\n",
    "plt.xticks(rotation=45)\n",
    "plt.title('Feature Importance')\n",
    "plt.show()"
   ]
  },
  {
   "cell_type": "code",
   "execution_count": null,
   "id": "6060ca27-f5e3-40a3-a5fa-208e542925eb",
   "metadata": {},
   "outputs": [],
   "source": []
  },
  {
   "cell_type": "markdown",
   "id": "a0110883-adbc-4fa8-aab0-8f5c786e56fa",
   "metadata": {},
   "source": [
    "## Happy Learning :)"
   ]
  }
 ],
 "metadata": {
  "kernelspec": {
   "display_name": "Python 3 (ipykernel)",
   "language": "python",
   "name": "python3"
  },
  "language_info": {
   "codemirror_mode": {
    "name": "ipython",
    "version": 3
   },
   "file_extension": ".py",
   "mimetype": "text/x-python",
   "name": "python",
   "nbconvert_exporter": "python",
   "pygments_lexer": "ipython3",
   "version": "3.9.13"
  }
 },
 "nbformat": 4,
 "nbformat_minor": 5
}
